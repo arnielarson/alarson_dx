{
 "cells": [
  {
   "cell_type": "markdown",
   "id": "fde83f47-9b7a-49de-85fd-411a8d1d8f05",
   "metadata": {},
   "source": [
    "## Mystery Data\n",
    "\n",
    "This is a repeat of the mystery data problem, using Python and Pandas to output the \"answer\" via a simple group by, count, sort"
   ]
  },
  {
   "cell_type": "code",
   "execution_count": 1,
   "id": "d75fbc8d-7164-4970-82da-b73b2df12b73",
   "metadata": {},
   "outputs": [],
   "source": [
    "import pandas as pd"
   ]
  },
  {
   "cell_type": "code",
   "execution_count": 2,
   "id": "b1a74126-87f4-4d1a-88a3-6491714447fd",
   "metadata": {},
   "outputs": [],
   "source": [
    "file_path = r\"/Users/arnie/Data/prob1.txt\""
   ]
  },
  {
   "cell_type": "code",
   "execution_count": 8,
   "id": "5a88459b-8bff-4b10-ac40-4982ad0bc0f0",
   "metadata": {},
   "outputs": [],
   "source": [
    "df = pd.read_csv(file_path, names=['c1','c2','c3','c4','c5','c6'])"
   ]
  },
  {
   "cell_type": "code",
   "execution_count": 9,
   "id": "6d06b75c-58b8-4ae7-aae3-15ad54d9baf8",
   "metadata": {},
   "outputs": [
    {
     "data": {
      "text/html": [
       "<div>\n",
       "<style scoped>\n",
       "    .dataframe tbody tr th:only-of-type {\n",
       "        vertical-align: middle;\n",
       "    }\n",
       "\n",
       "    .dataframe tbody tr th {\n",
       "        vertical-align: top;\n",
       "    }\n",
       "\n",
       "    .dataframe thead th {\n",
       "        text-align: right;\n",
       "    }\n",
       "</style>\n",
       "<table border=\"1\" class=\"dataframe\">\n",
       "  <thead>\n",
       "    <tr style=\"text-align: right;\">\n",
       "      <th></th>\n",
       "      <th>c1</th>\n",
       "      <th>c2</th>\n",
       "      <th>c3</th>\n",
       "      <th>c4</th>\n",
       "      <th>c5</th>\n",
       "      <th>c6</th>\n",
       "    </tr>\n",
       "  </thead>\n",
       "  <tbody>\n",
       "    <tr>\n",
       "      <th>0</th>\n",
       "      <td>0</td>\n",
       "      <td>8.53</td>\n",
       "      <td>tintype</td>\n",
       "      <td>0.460945</td>\n",
       "      <td>260784</td>\n",
       "      <td>countermeasure</td>\n",
       "    </tr>\n",
       "    <tr>\n",
       "      <th>1</th>\n",
       "      <td>1</td>\n",
       "      <td>5.52</td>\n",
       "      <td>For</td>\n",
       "      <td>0.822112</td>\n",
       "      <td>310733</td>\n",
       "      <td>malleable</td>\n",
       "    </tr>\n",
       "    <tr>\n",
       "      <th>2</th>\n",
       "      <td>2</td>\n",
       "      <td>1.33</td>\n",
       "      <td>You</td>\n",
       "      <td>0.627088</td>\n",
       "      <td>434806</td>\n",
       "      <td>dinnerware</td>\n",
       "    </tr>\n",
       "    <tr>\n",
       "      <th>3</th>\n",
       "      <td>3</td>\n",
       "      <td>9.97</td>\n",
       "      <td>percept</td>\n",
       "      <td>0.105301</td>\n",
       "      <td>776341</td>\n",
       "      <td>schema</td>\n",
       "    </tr>\n",
       "    <tr>\n",
       "      <th>4</th>\n",
       "      <td>4</td>\n",
       "      <td>3.44</td>\n",
       "      <td>Allentown</td>\n",
       "      <td>0.232980</td>\n",
       "      <td>442039</td>\n",
       "      <td>Elisha</td>\n",
       "    </tr>\n",
       "  </tbody>\n",
       "</table>\n",
       "</div>"
      ],
      "text/plain": [
       "   c1    c2         c3        c4      c5              c6\n",
       "0   0  8.53    tintype  0.460945  260784  countermeasure\n",
       "1   1  5.52        For  0.822112  310733       malleable\n",
       "2   2  1.33        You  0.627088  434806      dinnerware\n",
       "3   3  9.97    percept  0.105301  776341          schema\n",
       "4   4  3.44  Allentown  0.232980  442039          Elisha"
      ]
     },
     "execution_count": 9,
     "metadata": {},
     "output_type": "execute_result"
    }
   ],
   "source": [
    "df.head()"
   ]
  },
  {
   "cell_type": "code",
   "execution_count": 29,
   "id": "1a9aaea5-aba6-4869-9345-a481a6e947f4",
   "metadata": {},
   "outputs": [
    {
     "data": {
      "text/plain": [
       "c3\n",
       "The               80000\n",
       "Answer            70000\n",
       "You               60000\n",
       "Are                5000\n",
       "Looking            4000\n",
       "For                3000\n",
       "Is                 2000\n",
       "WearYourMask!!     1000\n",
       "dtype: int64"
      ]
     },
     "execution_count": 29,
     "metadata": {},
     "output_type": "execute_result"
    }
   ],
   "source": [
    "df[['c3']].groupby('c3').size().sort_values(ascending=False).head(8)"
   ]
  },
  {
   "cell_type": "code",
   "execution_count": null,
   "id": "12f74158-c28e-4f82-9de1-f64980e2595b",
   "metadata": {},
   "outputs": [],
   "source": []
  }
 ],
 "metadata": {
  "kernelspec": {
   "display_name": "Python 3 (ipykernel)",
   "language": "python",
   "name": "python3"
  },
  "language_info": {
   "codemirror_mode": {
    "name": "ipython",
    "version": 3
   },
   "file_extension": ".py",
   "mimetype": "text/x-python",
   "name": "python",
   "nbconvert_exporter": "python",
   "pygments_lexer": "ipython3",
   "version": "3.13.3"
  }
 },
 "nbformat": 4,
 "nbformat_minor": 5
}
